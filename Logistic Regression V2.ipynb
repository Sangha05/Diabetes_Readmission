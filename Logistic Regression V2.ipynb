{
 "cells": [
  {
   "cell_type": "code",
   "execution_count": 3,
   "metadata": {},
   "outputs": [
    {
     "data": {
      "text/html": [
       "<div>\n",
       "<style scoped>\n",
       "    .dataframe tbody tr th:only-of-type {\n",
       "        vertical-align: middle;\n",
       "    }\n",
       "\n",
       "    .dataframe tbody tr th {\n",
       "        vertical-align: top;\n",
       "    }\n",
       "\n",
       "    .dataframe thead th {\n",
       "        text-align: right;\n",
       "    }\n",
       "</style>\n",
       "<table border=\"1\" class=\"dataframe\">\n",
       "  <thead>\n",
       "    <tr style=\"text-align: right;\">\n",
       "      <th></th>\n",
       "      <th>age</th>\n",
       "      <th>time_in_hospital</th>\n",
       "      <th>num_lab_procedures</th>\n",
       "      <th>num_procedures</th>\n",
       "      <th>num_medications</th>\n",
       "      <th>number_outpatient</th>\n",
       "      <th>number_emergency</th>\n",
       "      <th>number_inpatient</th>\n",
       "      <th>number_diagnoses</th>\n",
       "      <th>metformin</th>\n",
       "      <th>...</th>\n",
       "      <th>admission_source_id_6</th>\n",
       "      <th>admission_source_id_7</th>\n",
       "      <th>admission_source_id_8</th>\n",
       "      <th>admission_source_id_9</th>\n",
       "      <th>admission_source_id_10</th>\n",
       "      <th>admission_source_id_11</th>\n",
       "      <th>admission_source_id_13</th>\n",
       "      <th>admission_source_id_14</th>\n",
       "      <th>admission_source_id_22</th>\n",
       "      <th>admission_source_id_25</th>\n",
       "    </tr>\n",
       "  </thead>\n",
       "  <tbody>\n",
       "    <tr>\n",
       "      <td>301</td>\n",
       "      <td>50</td>\n",
       "      <td>5</td>\n",
       "      <td>50</td>\n",
       "      <td>1</td>\n",
       "      <td>18</td>\n",
       "      <td>0</td>\n",
       "      <td>0</td>\n",
       "      <td>0</td>\n",
       "      <td>9</td>\n",
       "      <td>-200</td>\n",
       "      <td>...</td>\n",
       "      <td>0</td>\n",
       "      <td>0</td>\n",
       "      <td>0</td>\n",
       "      <td>0</td>\n",
       "      <td>0</td>\n",
       "      <td>0</td>\n",
       "      <td>0</td>\n",
       "      <td>0</td>\n",
       "      <td>0</td>\n",
       "      <td>0</td>\n",
       "    </tr>\n",
       "    <tr>\n",
       "      <td>54727</td>\n",
       "      <td>40</td>\n",
       "      <td>1</td>\n",
       "      <td>2</td>\n",
       "      <td>1</td>\n",
       "      <td>21</td>\n",
       "      <td>4</td>\n",
       "      <td>0</td>\n",
       "      <td>4</td>\n",
       "      <td>9</td>\n",
       "      <td>-200</td>\n",
       "      <td>...</td>\n",
       "      <td>0</td>\n",
       "      <td>0</td>\n",
       "      <td>0</td>\n",
       "      <td>0</td>\n",
       "      <td>0</td>\n",
       "      <td>0</td>\n",
       "      <td>0</td>\n",
       "      <td>0</td>\n",
       "      <td>0</td>\n",
       "      <td>0</td>\n",
       "    </tr>\n",
       "    <tr>\n",
       "      <td>8372</td>\n",
       "      <td>60</td>\n",
       "      <td>1</td>\n",
       "      <td>11</td>\n",
       "      <td>1</td>\n",
       "      <td>19</td>\n",
       "      <td>0</td>\n",
       "      <td>0</td>\n",
       "      <td>0</td>\n",
       "      <td>3</td>\n",
       "      <td>0</td>\n",
       "      <td>...</td>\n",
       "      <td>0</td>\n",
       "      <td>0</td>\n",
       "      <td>0</td>\n",
       "      <td>0</td>\n",
       "      <td>0</td>\n",
       "      <td>0</td>\n",
       "      <td>0</td>\n",
       "      <td>0</td>\n",
       "      <td>0</td>\n",
       "      <td>0</td>\n",
       "    </tr>\n",
       "    <tr>\n",
       "      <td>52463</td>\n",
       "      <td>50</td>\n",
       "      <td>2</td>\n",
       "      <td>61</td>\n",
       "      <td>0</td>\n",
       "      <td>17</td>\n",
       "      <td>0</td>\n",
       "      <td>0</td>\n",
       "      <td>1</td>\n",
       "      <td>5</td>\n",
       "      <td>-200</td>\n",
       "      <td>...</td>\n",
       "      <td>0</td>\n",
       "      <td>1</td>\n",
       "      <td>0</td>\n",
       "      <td>0</td>\n",
       "      <td>0</td>\n",
       "      <td>0</td>\n",
       "      <td>0</td>\n",
       "      <td>0</td>\n",
       "      <td>0</td>\n",
       "      <td>0</td>\n",
       "    </tr>\n",
       "    <tr>\n",
       "      <td>2743</td>\n",
       "      <td>70</td>\n",
       "      <td>2</td>\n",
       "      <td>14</td>\n",
       "      <td>1</td>\n",
       "      <td>20</td>\n",
       "      <td>0</td>\n",
       "      <td>0</td>\n",
       "      <td>0</td>\n",
       "      <td>7</td>\n",
       "      <td>-200</td>\n",
       "      <td>...</td>\n",
       "      <td>0</td>\n",
       "      <td>0</td>\n",
       "      <td>0</td>\n",
       "      <td>0</td>\n",
       "      <td>0</td>\n",
       "      <td>0</td>\n",
       "      <td>0</td>\n",
       "      <td>0</td>\n",
       "      <td>0</td>\n",
       "      <td>0</td>\n",
       "    </tr>\n",
       "    <tr>\n",
       "      <td>36041</td>\n",
       "      <td>70</td>\n",
       "      <td>1</td>\n",
       "      <td>45</td>\n",
       "      <td>0</td>\n",
       "      <td>8</td>\n",
       "      <td>0</td>\n",
       "      <td>0</td>\n",
       "      <td>1</td>\n",
       "      <td>7</td>\n",
       "      <td>0</td>\n",
       "      <td>...</td>\n",
       "      <td>0</td>\n",
       "      <td>1</td>\n",
       "      <td>0</td>\n",
       "      <td>0</td>\n",
       "      <td>0</td>\n",
       "      <td>0</td>\n",
       "      <td>0</td>\n",
       "      <td>0</td>\n",
       "      <td>0</td>\n",
       "      <td>0</td>\n",
       "    </tr>\n",
       "    <tr>\n",
       "      <td>13145</td>\n",
       "      <td>70</td>\n",
       "      <td>1</td>\n",
       "      <td>1</td>\n",
       "      <td>1</td>\n",
       "      <td>17</td>\n",
       "      <td>0</td>\n",
       "      <td>0</td>\n",
       "      <td>0</td>\n",
       "      <td>3</td>\n",
       "      <td>0</td>\n",
       "      <td>...</td>\n",
       "      <td>0</td>\n",
       "      <td>0</td>\n",
       "      <td>0</td>\n",
       "      <td>0</td>\n",
       "      <td>0</td>\n",
       "      <td>0</td>\n",
       "      <td>0</td>\n",
       "      <td>0</td>\n",
       "      <td>0</td>\n",
       "      <td>0</td>\n",
       "    </tr>\n",
       "    <tr>\n",
       "      <td>9465</td>\n",
       "      <td>60</td>\n",
       "      <td>5</td>\n",
       "      <td>17</td>\n",
       "      <td>1</td>\n",
       "      <td>34</td>\n",
       "      <td>2</td>\n",
       "      <td>0</td>\n",
       "      <td>0</td>\n",
       "      <td>5</td>\n",
       "      <td>0</td>\n",
       "      <td>...</td>\n",
       "      <td>0</td>\n",
       "      <td>0</td>\n",
       "      <td>0</td>\n",
       "      <td>1</td>\n",
       "      <td>0</td>\n",
       "      <td>0</td>\n",
       "      <td>0</td>\n",
       "      <td>0</td>\n",
       "      <td>0</td>\n",
       "      <td>0</td>\n",
       "    </tr>\n",
       "    <tr>\n",
       "      <td>5067</td>\n",
       "      <td>70</td>\n",
       "      <td>3</td>\n",
       "      <td>61</td>\n",
       "      <td>1</td>\n",
       "      <td>11</td>\n",
       "      <td>0</td>\n",
       "      <td>0</td>\n",
       "      <td>0</td>\n",
       "      <td>3</td>\n",
       "      <td>-200</td>\n",
       "      <td>...</td>\n",
       "      <td>0</td>\n",
       "      <td>1</td>\n",
       "      <td>0</td>\n",
       "      <td>0</td>\n",
       "      <td>0</td>\n",
       "      <td>0</td>\n",
       "      <td>0</td>\n",
       "      <td>0</td>\n",
       "      <td>0</td>\n",
       "      <td>0</td>\n",
       "    </tr>\n",
       "    <tr>\n",
       "      <td>41438</td>\n",
       "      <td>50</td>\n",
       "      <td>5</td>\n",
       "      <td>48</td>\n",
       "      <td>4</td>\n",
       "      <td>23</td>\n",
       "      <td>0</td>\n",
       "      <td>0</td>\n",
       "      <td>0</td>\n",
       "      <td>6</td>\n",
       "      <td>-200</td>\n",
       "      <td>...</td>\n",
       "      <td>0</td>\n",
       "      <td>0</td>\n",
       "      <td>0</td>\n",
       "      <td>0</td>\n",
       "      <td>0</td>\n",
       "      <td>0</td>\n",
       "      <td>0</td>\n",
       "      <td>0</td>\n",
       "      <td>0</td>\n",
       "      <td>0</td>\n",
       "    </tr>\n",
       "  </tbody>\n",
       "</table>\n",
       "<p>10 rows × 120 columns</p>\n",
       "</div>"
      ],
      "text/plain": [
       "       age  time_in_hospital  num_lab_procedures  num_procedures  \\\n",
       "301     50                 5                  50               1   \n",
       "54727   40                 1                   2               1   \n",
       "8372    60                 1                  11               1   \n",
       "52463   50                 2                  61               0   \n",
       "2743    70                 2                  14               1   \n",
       "36041   70                 1                  45               0   \n",
       "13145   70                 1                   1               1   \n",
       "9465    60                 5                  17               1   \n",
       "5067    70                 3                  61               1   \n",
       "41438   50                 5                  48               4   \n",
       "\n",
       "       num_medications  number_outpatient  number_emergency  number_inpatient  \\\n",
       "301                 18                  0                 0                 0   \n",
       "54727               21                  4                 0                 4   \n",
       "8372                19                  0                 0                 0   \n",
       "52463               17                  0                 0                 1   \n",
       "2743                20                  0                 0                 0   \n",
       "36041                8                  0                 0                 1   \n",
       "13145               17                  0                 0                 0   \n",
       "9465                34                  2                 0                 0   \n",
       "5067                11                  0                 0                 0   \n",
       "41438               23                  0                 0                 0   \n",
       "\n",
       "       number_diagnoses  metformin  ...  admission_source_id_6  \\\n",
       "301                   9       -200  ...                      0   \n",
       "54727                 9       -200  ...                      0   \n",
       "8372                  3          0  ...                      0   \n",
       "52463                 5       -200  ...                      0   \n",
       "2743                  7       -200  ...                      0   \n",
       "36041                 7          0  ...                      0   \n",
       "13145                 3          0  ...                      0   \n",
       "9465                  5          0  ...                      0   \n",
       "5067                  3       -200  ...                      0   \n",
       "41438                 6       -200  ...                      0   \n",
       "\n",
       "       admission_source_id_7  admission_source_id_8  admission_source_id_9  \\\n",
       "301                        0                      0                      0   \n",
       "54727                      0                      0                      0   \n",
       "8372                       0                      0                      0   \n",
       "52463                      1                      0                      0   \n",
       "2743                       0                      0                      0   \n",
       "36041                      1                      0                      0   \n",
       "13145                      0                      0                      0   \n",
       "9465                       0                      0                      1   \n",
       "5067                       1                      0                      0   \n",
       "41438                      0                      0                      0   \n",
       "\n",
       "       admission_source_id_10  admission_source_id_11  admission_source_id_13  \\\n",
       "301                         0                       0                       0   \n",
       "54727                       0                       0                       0   \n",
       "8372                        0                       0                       0   \n",
       "52463                       0                       0                       0   \n",
       "2743                        0                       0                       0   \n",
       "36041                       0                       0                       0   \n",
       "13145                       0                       0                       0   \n",
       "9465                        0                       0                       0   \n",
       "5067                        0                       0                       0   \n",
       "41438                       0                       0                       0   \n",
       "\n",
       "       admission_source_id_14  admission_source_id_22  admission_source_id_25  \n",
       "301                         0                       0                       0  \n",
       "54727                       0                       0                       0  \n",
       "8372                        0                       0                       0  \n",
       "52463                       0                       0                       0  \n",
       "2743                        0                       0                       0  \n",
       "36041                       0                       0                       0  \n",
       "13145                       0                       0                       0  \n",
       "9465                        0                       0                       0  \n",
       "5067                        0                       0                       0  \n",
       "41438                       0                       0                       0  \n",
       "\n",
       "[10 rows x 120 columns]"
      ]
     },
     "execution_count": 3,
     "metadata": {},
     "output_type": "execute_result"
    }
   ],
   "source": [
    "import pandas as pd\n",
    "import numpy as np\n",
    "from sklearn.model_selection import train_test_split\n",
    "\n",
    "df = pd.read_csv(\"Clean_Data_LogReg.csv\")\n",
    "df.sample(10)"
   ]
  },
  {
   "cell_type": "code",
   "execution_count": 4,
   "metadata": {},
   "outputs": [],
   "source": [
    "from sklearn.linear_model import LogisticRegression\n",
    "from sklearn.metrics import accuracy_score\n",
    "from sklearn.metrics import confusion_matrix\n",
    "import scikitplot as skplt \n",
    "import matplotlib.pyplot as plt\n",
    "\n",
    "def compute_precision(tp, fp):\n",
    "    return tp / (tp + fp)\n",
    "\n",
    "def compute_recall(tp, fn):\n",
    "    return tp / (tp + fn)\n",
    "\n",
    "def conf_metrics(y_test,y_pred):\n",
    "    accuracy = accuracy_score(y_test, y_pred)\n",
    "    print(\"Accuracy: %.2f%%\" % (accuracy * 100.0))\n",
    "    conf_mat = confusion_matrix(y_test, y_pred)\n",
    "    print(conf_mat)\n",
    "    tn, fp, fn, tp = conf_mat.ravel()\n",
    "    print(\"True Negatives: \",tn)\n",
    "    print(\"False Positives: \",fp)\n",
    "    print(\"False Negatives: \",fn)\n",
    "    print(\"True Positives: \",tp)\n",
    "    precision = compute_precision(tp, fp)\n",
    "    recall = compute_recall(tp, fn)\n",
    "    print('Precision: {0:.2f}\\nRecall: {1:.2f}'.format(precision, recall))\n",
    "\n",
    "def plot_roc_auc(model,X_test,y_test):\n",
    "    y_pred_proba = model.predict_proba(X_test)\n",
    "    skplt.metrics.plot_roc(y_test, y_pred_proba)\n",
    "    plt.show()"
   ]
  },
  {
   "cell_type": "markdown",
   "metadata": {},
   "source": [
    "## Short term Risk Prediction"
   ]
  },
  {
   "cell_type": "code",
   "execution_count": 5,
   "metadata": {},
   "outputs": [
    {
     "data": {
      "text/plain": [
       "0    19168\n",
       "1      939\n",
       "Name: within30, dtype: int64"
      ]
     },
     "execution_count": 5,
     "metadata": {},
     "output_type": "execute_result"
    }
   ],
   "source": [
    "X = df.drop(['readmitted','within30'],axis=1)\n",
    "y = df['within30']\n",
    "X_train,X_test,y_train,y_test = train_test_split(X,y,test_size=0.3,random_state=5)\n",
    "y_test.value_counts()"
   ]
  },
  {
   "cell_type": "code",
   "execution_count": 6,
   "metadata": {},
   "outputs": [
    {
     "data": {
      "text/plain": [
       "0    44691\n",
       "1     2225\n",
       "Name: within30, dtype: int64"
      ]
     },
     "execution_count": 6,
     "metadata": {},
     "output_type": "execute_result"
    }
   ],
   "source": [
    "y_train.value_counts()"
   ]
  },
  {
   "cell_type": "code",
   "execution_count": 8,
   "metadata": {},
   "outputs": [
    {
     "name": "stdout",
     "output_type": "stream",
     "text": [
      "Accuracy: 73.14%\n",
      "[[14195  4973]\n",
      " [  427   512]]\n",
      "True Negatives:  14195\n",
      "False Positives:  4973\n",
      "False Negatives:  427\n",
      "True Positives:  512\n",
      "Precision: 0.09\n",
      "Recall: 0.55\n"
     ]
    },
    {
     "data": {
      "image/png": "[encoded data removed]",
      "text/plain": [
       "<Figure size 432x288 with 1 Axes>"
      ]
     },
     "metadata": {
      "needs_background": "light"
     },
     "output_type": "display_data"
    }
   ],
   "source": [
    "# Version with feature engineering complete\n",
    "logReg3 = LogisticRegression(solver='liblinear',max_iter=1000, random_state=5,class_weight={0:1,1:18}).fit(X_train, y_train)\n",
    "y_pred_lr3 = logReg2.predict(X_test)\n",
    "conf_metrics(y_test, y_pred_lr3)\n",
    "plot_roc_auc(logReg3,X_test,y_test)"
   ]
  },
  {
   "cell_type": "markdown",
   "metadata": {},
   "source": [
    "It's really interesting that grouping the null value categories hasn't improved our Recall or Precision, but actually decreased our Accuracy and AUC."
   ]
  },
  {
   "cell_type": "markdown",
   "metadata": {},
   "source": [
    "## Long Term Risk Prediction"
   ]
  },
  {
   "cell_type": "code",
   "execution_count": 9,
   "metadata": {},
   "outputs": [
    {
     "data": {
      "text/plain": [
       "0    15105\n",
       "1     5002\n",
       "Name: readmitted, dtype: int64"
      ]
     },
     "execution_count": 9,
     "metadata": {},
     "output_type": "execute_result"
    }
   ],
   "source": [
    "y = df['readmitted']\n",
    "X_train,X_test,y_train,y_test = train_test_split(X,y,test_size=0.3,random_state=5)\n",
    "y_test.value_counts()"
   ]
  },
  {
   "cell_type": "code",
   "execution_count": 10,
   "metadata": {},
   "outputs": [
    {
     "data": {
      "text/plain": [
       "0    35153\n",
       "1    11763\n",
       "Name: readmitted, dtype: int64"
      ]
     },
     "execution_count": 10,
     "metadata": {},
     "output_type": "execute_result"
    }
   ],
   "source": [
    "y_train.value_counts()"
   ]
  },
  {
   "cell_type": "code",
   "execution_count": 11,
   "metadata": {},
   "outputs": [
    {
     "name": "stdout",
     "output_type": "stream",
     "text": [
      "Accuracy: 63.31%\n",
      "[[9617 5488]\n",
      " [1890 3112]]\n",
      "True Negatives:  9617\n",
      "False Positives:  5488\n",
      "False Negatives:  1890\n",
      "True Positives:  3112\n",
      "Precision: 0.36\n",
      "Recall: 0.62\n"
     ]
    },
    {
     "data": {
      "image/png": "[encoded data removed]",
      "text/plain": [
       "<Figure size 432x288 with 1 Axes>"
      ]
     },
     "metadata": {
      "needs_background": "light"
     },
     "output_type": "display_data"
    }
   ],
   "source": [
    "# Logistic Regression for Long term risk\n",
    "logReg4 = LogisticRegression(solver='liblinear',max_iter=1000, random_state=5,class_weight={0:1,1:3}).fit(X_train, y_train)\n",
    "y_pred_lr4 = logReg4.predict(X_test)\n",
    "conf_metrics(y_test, y_pred_lr4)\n",
    "plot_roc_auc(logReg4, X_test, y_test)"
   ]
  },
  {
   "cell_type": "markdown",
   "metadata": {},
   "source": [
    "Same with long term risk prediction. Our Accuracy and AUC actually decreased with the grouping. The Baseline model with proper class weights gives us the best results."
   ]
  }
 ],
 "metadata": {
  "kernelspec": {
   "display_name": "Python 3",
   "language": "python",
   "name": "python3"
  },
  "language_info": {
   "codemirror_mode": {
    "name": "ipython",
    "version": 3
   },
   "file_extension": ".py",
   "mimetype": "text/x-python",
   "name": "python",
   "nbconvert_exporter": "python",
   "pygments_lexer": "ipython3",
   "version": "3.7.3"
  }
 },
 "nbformat": 4,
 "nbformat_minor": 2
}
